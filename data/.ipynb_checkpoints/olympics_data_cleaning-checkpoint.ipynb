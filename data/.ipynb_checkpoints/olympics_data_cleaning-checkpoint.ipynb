{
 "cells": [
  {
   "cell_type": "markdown",
   "metadata": {},
   "source": [
    "## Olympics Data Cleaning"
   ]
  },
  {
   "cell_type": "code",
   "execution_count": null,
   "metadata": {},
   "outputs": [],
   "source": [
    "# Dependencies\n",
    "import pandas as pd"
   ]
  },
  {
   "cell_type": "code",
   "execution_count": null,
   "metadata": {},
   "outputs": [],
   "source": [
    "# CSV location \n",
    "countries = 'IOCCOUNTRYCODES.csv'\n",
    "medalists = 'OlympicsData-Medalists.csv'\n",
    "sports = 'OlympicsData-Sports.csv'\n",
    "summer = 'SummerOlympicMedals.csv'\n",
    "winter = 'WinterOlympicsMedals.csv'"
   ]
  },
  {
   "cell_type": "code",
   "execution_count": null,
   "metadata": {},
   "outputs": [],
   "source": [
    "#Reading CSV, Selecting columns, Renaming \n",
    "df_countries = pd.read_csv(countries, encoding=\"ISO-8859-1\")\n",
    "df_countries.head()\n"
   ]
  },
  {
   "cell_type": "code",
   "execution_count": null,
   "metadata": {},
   "outputs": [],
   "source": [
    "#Reading CSV, Selecting columns, Renaming \n",
    "df_medalists = pd.read_csv(medalists, encoding=\"ISO-8859-1\")\n",
    "df_medalists = df_medalists[[\"Edition\", \"Athlete\",\"NOC\",\"Gender\", \"Event\", \"Medal\",\"Season\",\"MedalValue\", \"SportID\"]]\n",
    "df_medalists = df_medalists.rename(columns={\"Edition\":\"year\", \"Athlete\": \"athlete\",\"NOC\":\"country_code\",\"Gender\":\"gender\", \"Event\":\"event\", \"Medal\":\"medal\",\"Season\":\"season\",\"MedalValue\":\"medal_value\", \"SportID\":\"sport_id\"})\n",
    "df_medalists\n"
   ]
  },
  {
   "cell_type": "code",
   "execution_count": null,
   "metadata": {},
   "outputs": [],
   "source": [
    "#Reading CSV, Selecting columns, Renaming \n",
    "df_sports = pd.read_csv(sports, encoding=\"ISO-8859-1\")\n",
    "df_sports = df_sports.rename(columns={\"Sport\":\"sport\", \"SportID\":\"sport_id\"})\n",
    "df_sports.head()   "
   ]
  },
  {
   "cell_type": "code",
   "execution_count": null,
   "metadata": {},
   "outputs": [],
   "source": [
    "#Reading CSV, Selecting columns, Renaming \n",
    "df_summer = pd.read_csv(summer, encoding=\"ISO-8859-1\")\n",
    "df_summer = df_summer[[\"City\",\"Edition\",\"Sport\",\"Discipline\",\"Athlete\",\"NOC\",\"Gender\",\"Event\",\"Medal\"]]\n",
    "df_summer = df_summer.rename(columns={\"City\":\"city_host\", \"Edition\":\"year\",\"Sport\":\"sport\",\"Discipline\":\"discipline\",\"Athlete\":\"athlete\",\"NOC\":\"country_code\",\"Gender\":\"gender\",\"Event\":\"event\",\"Medal\":\"medal\"})\n",
    "df_summer.head()"
   ]
  },
  {
   "cell_type": "code",
   "execution_count": null,
   "metadata": {},
   "outputs": [],
   "source": [
    "#Reading CSV, Selecting columns, Renaming \n",
    "df_winter = pd.read_csv(winter, encoding=\"ISO-8859-1\")\n",
    "df_winter = df_winter[[\"Year\", \"City\", \"Sport\",\"Discipline\",\"NOC\",\"Medal\"]]\n",
    "df_winter = df_winter.rename(columns={\"Year\":\"year\", \"City\":\"city_host\", \"Sport\":\"sport\",\"Discipline\":\"discipline\",\"NOC\":\"country_code\",\"Medal\":\"medal\"})\n",
    "df_winter.head()"
   ]
  },
  {
   "cell_type": "code",
   "execution_count": null,
   "metadata": {},
   "outputs": [],
   "source": []
  }
 ],
 "metadata": {
  "kernelspec": {
   "display_name": "Python [conda env:PythonData1] *",
   "language": "python",
   "name": "conda-env-PythonData1-py"
  },
  "language_info": {
   "codemirror_mode": {
    "name": "ipython",
    "version": 3
   },
   "file_extension": ".py",
   "mimetype": "text/x-python",
   "name": "python",
   "nbconvert_exporter": "python",
   "pygments_lexer": "ipython3",
   "version": "3.6.10"
  }
 },
 "nbformat": 4,
 "nbformat_minor": 4
}
